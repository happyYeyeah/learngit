{
 "cells": [
  {
   "cell_type": "markdown",
   "id": "0c6d6947",
   "metadata": {},
   "source": [
    "## [廖雪峰Git教程](https://www.liaoxuefeng.com/wiki/896043488029600)笔记"
   ]
  },
  {
   "cell_type": "markdown",
   "id": "353a481a",
   "metadata": {},
   "source": [
    "## Table of Contents <a id='toc'></a>"
   ]
  },
  {
   "cell_type": "markdown",
   "id": "69d01194",
   "metadata": {},
   "source": [
    "* [简介]\n",
    "    * [集成vs分布](#central_decentral)\n",
    "    * [安装与初步设置](#installation)\n",
    "* [新手出发！]\n",
    "    * [Create a repository|创建版本库](#git_init)\n",
    "    * [Add a new text|添加新文件](#git_add)\n",
    "    * [Text modification|修改文件后](#git_status)\n",
    "    * [返回上一个版本|commit ID](#git_reset)\n",
    "    * [工作区和暂存区](#git_stage)\n",
    "    * [撤销修改](#git_checkout)\n",
    "    * [删除文件/文件夹](#git_rm)\n",
    "    \n",
    "* [远程仓库！]\n",
    "    * [和本机电脑建立ssh协议](#ssh)\n",
    "    * [从本地上传到远程库](#git_origin)\n",
    "    * [删除远程库](#git_remote_rm)\n",
    "    * [从远程克隆到本地](#git_clone)"
   ]
  },
  {
   "cell_type": "markdown",
   "id": "22a1cf7d",
   "metadata": {},
   "source": [
    "## 集成式和分布式 <a id='central_decentral'></a>[(back)](#toc)"
   ]
  },
  {
   "cell_type": "markdown",
   "id": "2c995124",
   "metadata": {},
   "source": [
    "`集中式版本控制系统`\n",
    "\n",
    "版本库是集中存放在中央服务器的，而干活的时候，用的都是自己的电脑，所以要先从中央服务器取得最新的版本，然后开始干活，干完活了，再把自己的活推送给中央服务器。中央服务器就好比是一个图书馆，你要改一本书，必须先从图书馆借出来，然后回到家自己改，改完了，再放回图书馆。\n",
    "\n",
    "`分布式版本控制系统`\n",
    "\n",
    "分布式版本控制系统根本没有“中央服务器”，每个人的电脑上都是一个完整的版本库，这样，你工作的时候，就不需要联网了，因为版本库就在你自己的电脑上。既然每个人电脑上都有一个完整的版本库，那多个人如何协作呢？比方说你在自己电脑上改了文件A，你的同事也在他的电脑上改了文件A，这时，你们俩之间只需把各自的修改推送给对方，就可以互相看到对方的修改了\n",
    "\n",
    "在实际使用分布式版本控制系统的时候，其实很少在两人之间的电脑上推送版本库的修改，因为可能你们俩不在一个局域网内，两台电脑互相访问不了，也可能今天你的同事病了，他的电脑压根没有开机。因此，分布式版本控制系统通常也有一台充当“中央服务器”的电脑，但这个服务器的作用仅仅是用来方便“交换”大家的修改，没有它大家也一样干活，只是交换修改不方便而已。"
   ]
  },
  {
   "cell_type": "markdown",
   "id": "b3977d62",
   "metadata": {},
   "source": [
    "集中式和分布式的区别是：\n",
    "\n",
    "你的本地是否有完整的版本库历史！\n",
    "\n",
    "假设SVN服务器没了，那你丢掉了所有历史信息，因为你的本地只有当前版本以及部分历史信息。\n",
    "\n",
    "假设GitHub服务器没了，你不会丢掉任何git历史信息，因为你的本地有完整的版本库信息。你可以把本地的git库重新上传到另外的git服务商\n",
    "\n",
    "假如你还有10个同事，你每一次更改都要提交10次，其他同事有更改也要分别向我们提交，是不是觉得好烦，所以我们说干脆找一台固定电脑（服务器）用来统一规定把修改推给这台电脑，这样只需要提交1次就行了，其他人去这台机器上同步就好了。\n",
    "\n",
    "发现没有，Git的中央服务器可以没有，我们只是为了方便才这么做的。\n",
    "\n",
    "此时，如果这个中央服务器坏了，你只需要重新弄个电脑，把自己电脑上的同步一份过去，大家约定好都提交到这个新电脑上就行了。【所有的版本和历史都在，因为大家电脑上都是一样的】\n",
    "\n",
    "而集中式的SVN就不同了，你从中央服务器上下载好完整的代码，正常工作（写代码）是可以，但是如果断网了，你就无法回滚版本；这时你可能谁说，先不提交，等联网了我再提交。\n",
    "\n",
    "不好意思，这次断网是因为服务器报废了，是蒸发\n",
    "\n",
    "=----------\n",
    "\n",
    "你的理解是对的，比特币的区块链设计就类似git，人手一份全账本，只是用p2p全网同步，而git通常搞个中心化服务来同步\n",
    "\n",
    "svn像银行，完整账本只有银行有，作为终端节点可以向银行查询账本，但如果某一天银行没了，整个完整账本就没了\n",
    "\n",
    "分布式的核心设计是同步，而不是主从\n",
    "\n",
    "软件架构，核心思想其实是非常简单的"
   ]
  },
  {
   "cell_type": "markdown",
   "id": "516a9ffe",
   "metadata": {},
   "source": [
    "这里有几个概念：本地、服务器、中央服务器（远程服务器）。每一次\n",
    "\n",
    "commit是提交到本本机的服务器，这个不需要联网，正所谓的版本管理，就是要方便我\n",
    "\n",
    "们知道每一个版本，比如回到之前的某个版本（这是其一），而且回退到某个之前的版\n",
    "\n",
    "本，也是从本机的服务器拿的数据，这些都不需要联网。而 SVN 的每一次 commit 都需\n",
    "\n",
    "要联网，这就需要网络的等待。 Git只有在Push、pull 的时候需要联网，而我们平时更\n",
    "\n",
    "多的操作应是commit。\n",
    "\n",
    "再有就是，断网的情况下，SVN也能工作，但是由于没有版本控制的记录，当多人修改\n",
    "\n",
    "后就比较难以快速的合并，但是Git都在本地保存了版本记录，所以大家合并起来就方便\n",
    "\n",
    "得多了。"
   ]
  },
  {
   "cell_type": "markdown",
   "id": "95b2873d",
   "metadata": {},
   "source": [
    "## Git在windows里的安装 <a id='installation'></a> [(back)](#toc)"
   ]
  },
  {
   "cell_type": "markdown",
   "id": "27f53032",
   "metadata": {},
   "source": [
    "* 下载git\n",
    "    * 按默认安装\n",
    "\n",
    "* 在开始菜单里找到“Git”->“Git Bash”\n",
    "    * 在命令行输入以下内容\n",
    "    \n",
    "    ```\n",
    "    $ git config --global user.name \"Your Name\"\n",
    "$ git config --global user.email \"email@example.com\"\n",
    "    ```\n",
    "因为Git是分布式版本控制系统，所以，每个机器都必须自报家门：你的名字和Email地址。你也许会担心，如果有人故意冒充别人怎么办？这个不必担心，首先我们相信大家都是善良无知的群众，其次，真的有冒充的也是有办法可查的。\n",
    "\n",
    "注意`git config`命令的`--global`参数，用了这个参数，表示你这台机器上所有的Git仓库都会使用这个配置，当然也可以对某个仓库指定不同的用户名和Email地址。\n"
   ]
  },
  {
   "cell_type": "markdown",
   "id": "e8c467a2",
   "metadata": {},
   "source": [
    "## 创建版本库和添加文件|repository <a id='git_init'></a> [(back)](#toc)"
   ]
  },
  {
   "cell_type": "markdown",
   "id": "4f24818b",
   "metadata": {},
   "source": [
    "**Step 1**\n",
    "\n",
    "创建一个空目录"
   ]
  },
  {
   "cell_type": "markdown",
   "id": "793066d8",
   "metadata": {},
   "source": [
    "* 查看目前的路径 \n",
    "`pwd`\n",
    "* 更改路径\n",
    "`cd E:/blabla`\n",
    "* 创建一个新文件夹\n",
    "`mkdir foldername`"
   ]
  },
  {
   "cell_type": "markdown",
   "id": "c425bcf1",
   "metadata": {},
   "source": [
    "**Step 2**\n",
    "\n",
    "把该目录变成git可以管理的仓库\n",
    "\n",
    "* `git init`\n",
    "\n",
    "瞬间Git就把仓库建好了，而且告诉你是一个空的仓库（empty Git repository），细心的读者可以发现当前目录下多了一个.git的目录，这个目录是Git来跟踪管理版本库的，没事千万不要手动修改这个目录里面的文件，不然改乱了，就把Git仓库给破坏了。\n",
    "\n",
    "如果你没有看到.git目录，那是因为这个目录默认是隐藏的，用`ls -ah`命令就可以看见。"
   ]
  },
  {
   "cell_type": "markdown",
   "id": "c5d3b587",
   "metadata": {},
   "source": [
    "#### 注意：git仅能追踪文本文件的改动\n",
    "\n",
    "首先这里再明确一下，所有的版本控制系统，其实只能跟踪**文本文件**的改动，比如TXT文件，网页，所有的程序代码等等，Git也不例外。版本控制系统可以告诉你每次的改动，比如在第5行加了一个单词“Linux”，在第8行删了一个单词“Windows”。而*`图片、视频`*这些**二进制**文件，虽然也能由版本控制系统管理，但没法跟踪文件的变化，只能把二进制文件每次改动串起来，也就是只知道图片从100KB改成了120KB，但到底改了啥，版本控制系统不知道，也没法知道。\n",
    "\n",
    "不幸的是，Microsoft的*`Word`*格式是**二进制**格式，因此，版本控制系统是没法跟踪Word文件的改动的，前面我们举的例子只是为了演示，如果要真正使用版本控制系统，就要以纯文本方式编写文件。\n",
    "\n",
    "因为文本是有编码的，比如中文有常用的GBK编码，日文有Shift_JIS编码，如果没有历史遗留问题，强烈建议使用标准的UTF-8编码，所有语言使用同一种编码，既没有冲突，又被所有平台所支持。\n",
    "\n",
    "千万不要使用Windows自带的记事本编辑任何文本文件。原因是Microsoft开发记事本的团队使用了一个非常弱智的行为来保存UTF-8编码的文件，他们自作聪明地在每个文件开头添加了0xefbbbf（十六进制）的字符，你会遇到很多不可思议的问题，比如，网页第一行可能会显示一个“?”，明明正确的程序一编译就报语法错误，等等，都是由记事本的弱智行为带来的。建议你下载Visual Studio Code代替记事本，不但功能强大，而且免费！"
   ]
  },
  {
   "cell_type": "markdown",
   "id": "5422b584",
   "metadata": {},
   "source": [
    "## 添加文件 <a id='git_add'></a> [(back)](#toc)"
   ]
  },
  {
   "cell_type": "markdown",
   "id": "32c05b6f",
   "metadata": {},
   "source": [
    "**Step 3**\n",
    "\n",
    "在git 仓库里创建一个first.txt文档"
   ]
  },
  {
   "cell_type": "markdown",
   "id": "77161a58",
   "metadata": {},
   "source": [
    "* 命令行直接输入`vi first.txt`\n",
    "\n",
    "    * `:wq`保存退出  \n",
    "    > 注意：此时该txt文件已经在git仓库的文件夹里了，但并未进入git仓库的管理系统\n",
    "\n",
    "* 把一个文件放到Git仓库\n",
    "\n",
    "    * 第一步，用命令`git add`告诉Git，把文件**添加**到仓库\n",
    "\n",
    "    ```\n",
    "    $ git add first.txt\n",
    "    ```\n",
    "    * 第二步，用命令`git commit`告诉Git，把文件**提交**到仓库\n",
    "\n",
    "    ```\n",
    "    $ git commit -m \"wrote a readme file\"\n",
    "    ```\n",
    "\n",
    "简单解释一下git commit命令，-m后面输入的是本次提交的说明，可以输入任意内容，当然最好是有意义的，这样你就能从历史记录里方便地找到改动记录。\n",
    "\n",
    "嫌麻烦不想输入-m \"xxx\"行不行？确实有办法可以这么干，但是强烈不建议你这么干，因为输入说明对自己对别人阅读都很重要。\n",
    "\n",
    "### 两步走的优点\n",
    "\n",
    "为什么Git添加文件需要add，commit一共两步呢？因为commit可以一次提交很多文件，所以你可以多次add不同的文件\n",
    "\n",
    "```\n",
    "$ git add file1.txt\n",
    "$ git add file2.txt file3.txt\n",
    "$ git commit -m \"add 3 files.\"\n",
    "```"
   ]
  },
  {
   "cell_type": "markdown",
   "id": "a7180f39",
   "metadata": {},
   "source": [
    "## 版本控制|version control <a id='git_status'></a> [(back)](#toc)"
   ]
  },
  {
   "cell_type": "markdown",
   "id": "60073ace",
   "metadata": {},
   "source": [
    "当我们继续修改txt文件后，两步走：\n",
    "\n",
    "* Step 1：使用`git status`查看库里的文件是否有修改\n",
    "\n",
    "```\n",
    "$ git status\n",
    "On branch master\n",
    "Changes not staged for commit:\n",
    "  (use \"git add <file>...\" to update what will be committed)\n",
    "  (use \"git checkout -- <file>...\" to discard changes in working directory)\n",
    "\n",
    "\tmodified:   readme.txt\n",
    "\n",
    "no changes added to commit (use \"git add\" and/or \"git commit -a\")\n",
    "```\n",
    "\n",
    "`git status`命令可以让我们时刻掌握仓库当前的状态，上面的命令输出告诉我们，readme.txt被修改过了，但还没有准备提交的修改。"
   ]
  },
  {
   "cell_type": "markdown",
   "id": "a59e85ca",
   "metadata": {},
   "source": [
    "* Step 2：使用`git diff blabla.txt`查看具体的被修改的内容\n",
    "\n",
    "```\n",
    "$ git diff readme.txt \n",
    "diff --git a/readme.txt b/readme.txt\n",
    "index 46d49bf..9247db6 100644\n",
    "--- a/readme.txt\n",
    "+++ b/readme.txt\n",
    "@@ -1,2 +1,2 @@\n",
    "-Git is a version control system.\n",
    "+Git is a distributed version control system.\n",
    " Git is free software.\n",
    " ```\n",
    " \n",
    " 变动为`+`位置后的内容"
   ]
  },
  {
   "cell_type": "markdown",
   "id": "ecd57f37",
   "metadata": {},
   "source": [
    "知道了对readme.txt作了什么修改后，再把它提交到仓库就放心多了，**提交修改**和提交新文件是一样的两步\n",
    "\n",
    "* Step 1: `git add xxx.txt`\n",
    "\n",
    "此时再查看`git status`\n",
    "```\n",
    "$ git status\n",
    "On branch master\n",
    "Changes to be committed:\n",
    "  (use \"git reset HEAD <file>...\" to unstage)\n",
    "\n",
    "\tmodified:   readme.txt\n",
    "```\n",
    "git status告诉我们，将要被提交的修改包括readme.txt，下一步，就可以放心地提交了：\n",
    "\n",
    "* Step 2: `git commit -m 'blabla'`\n",
    "\n",
    "此时再用git status命令看看仓库的当前状态\n",
    "\n",
    "```\n",
    "$ git status\n",
    "On branch master\n",
    "nothing to commit, working tree clean\n",
    "```"
   ]
  },
  {
   "cell_type": "markdown",
   "id": "29520264",
   "metadata": {},
   "source": [
    "#### `git diff`里insertion和deletion的计算方法\n",
    "hello -> hello world\n",
    "\n",
    "* 你的认为：\n",
    "\n",
    "只添加了world\n",
    "\n",
    "* 计算机程序认为：\n",
    "\n",
    "删除了hello\n",
    "\n",
    "新增了hello world"
   ]
  },
  {
   "cell_type": "markdown",
   "id": "8fb982ad",
   "metadata": {},
   "source": [
    "#### `git diff`比较的范围\n",
    "\n",
    "要明白这3个概念，工作区（working tree），暂存区（index /stage），本地仓库（repository）\n",
    "\n",
    "git跟不同的参数，比较不同的区间的版本。\n",
    "\n",
    "* `git diff`：是查看working tree与index的差别的。\n",
    "\n",
    "* `git diff --cached`：是查看index与repository的差别的。\n",
    "\n",
    "* `git diff HEAD`：是查看working tree和repository的差别的。其中：HEAD代表的是最近的一次commit的信息。\n",
    "  综上所述：git diff 后面跟文件名称是是查看工作区（working tree）与暂存区（index）的差别的。"
   ]
  },
  {
   "cell_type": "markdown",
   "id": "033903b8",
   "metadata": {},
   "source": [
    "## 版本回退<a id='git_reset'></a>[(back)](#toc)"
   ]
  },
  {
   "cell_type": "markdown",
   "id": "93e7a718",
   "metadata": {},
   "source": [
    "N次提交（commit）之后，`git log`查看**提交的历史记录**\n",
    "\n",
    "```\n",
    "$ git log\n",
    "commit 1094adb7b9b3807259d8cb349e7df1d4d6477073 (HEAD -> master)\n",
    "Author: Michael Liao <askxuefeng@gmail.com>\n",
    "Date:   Fri May 18 21:06:15 2018 +0800\n",
    "\n",
    "    append GPL\n",
    "\n",
    "commit e475afc93c209a690c39c13a46716e8fa000c366\n",
    "Author: Michael Liao <askxuefeng@gmail.com>\n",
    "Date:   Fri May 18 21:03:36 2018 +0800\n",
    "\n",
    "    add distributed\n",
    "\n",
    "commit eaadf4e385e865d25c48e7ca9c8395c3f7dfaef0\n",
    "Author: Michael Liao <askxuefeng@gmail.com>\n",
    "Date:   Fri May 18 20:59:18 2018 +0800\n",
    "\n",
    "    wrote a readme file\n",
    "```\n",
    "\n",
    "美化输出：如果嫌输出信息太多，看得眼花缭乱的，可以试试加上--pretty=oneline参数\n",
    "\n",
    "` git log --pretty=oneline`\n",
    "\n",
    "```\n",
    "$ git log --pretty=oneline\n",
    "1094adb7b9b3807259d8cb349e7df1d4d6477073 (HEAD -> master) append GPL\n",
    "e475afc93c209a690c39c13a46716e8fa000c366 add distributed\n",
    "eaadf4e385e865d25c48e7ca9c8395c3f7dfaef0 wrote a readme file\n",
    "```\n",
    "需要友情提示的是，你看到的一大串类似1094adb...的是**commit id（版本号）**\n",
    "\n",
    "和SVN不一样，Git的commit id不是1，2，3……递增的数字，而是一个SHA1计算出来的一个非常大的数字，用十六进制表示，而且你看到的commit id和我的肯定不一样，以你自己的为准。为什么commit id需要用这么一大串数字表示呢？因为Git是分布式的版本控制系统，后面我们还要研究多人在同一个版本库里工作，如果大家都用1，2，3……作为版本号，那肯定就冲突了。"
   ]
  },
  {
   "cell_type": "markdown",
   "id": "2f332bde",
   "metadata": {},
   "source": [
    "### 版本的表示"
   ]
  },
  {
   "cell_type": "markdown",
   "id": "7b2d9a85",
   "metadata": {},
   "source": [
    "回退之前，Git必须知道当前版本是哪个版本，在Git中：\n",
    "\n",
    "* 用`HEAD`表示当前版本\n",
    "* 上一个版本就是`HEAD^`\n",
    "    * 上上一个版本就是`HEAD^^`\n",
    "\n",
    "当然往上100个版本写100个^比较容易数不过来\n",
    "* 所以写成`HEAD~100`"
   ]
  },
  {
   "cell_type": "markdown",
   "id": "bccb46da",
   "metadata": {},
   "source": [
    "### 开始回退"
   ]
  },
  {
   "cell_type": "markdown",
   "id": "0c07f2bc",
   "metadata": {},
   "source": [
    "回退：`git reset`\n",
    "\n",
    "现在，我们要把当前版本回退到上一个版本:\n",
    "```\n",
    "$ git reset --hard HEAD^\n",
    "HEAD is now at e475afc add distributed\n",
    "```\n",
    "\n",
    "`--hard`的[解释](#hard)\n",
    "\n",
    "此时，用git log再看看现在版本库的状态\n",
    "\n",
    "```\n",
    "$ git log\n",
    "commit e475afc93c209a690c39c13a46716e8fa000c366 (HEAD -> master)\n",
    "Author: Michael Liao <askxuefeng@gmail.com>\n",
    "Date:   Fri May 18 21:03:36 2018 +0800\n",
    "\n",
    "    add distributed\n",
    "\n",
    "commit eaadf4e385e865d25c48e7ca9c8395c3f7dfaef0\n",
    "Author: Michael Liao <askxuefeng@gmail.com>\n",
    "Date:   Fri May 18 20:59:18 2018 +0800\n",
    "\n",
    "    wrote a readme file\n",
    "```\n",
    "\n",
    "最新的那个版本append GPL已经看不到了！好比你从21世纪坐时光穿梭机来到了19世纪，想再回去已经回不去了，肿么办？-- 靠commit id\n",
    "\n",
    "* if尚未关闭命令行窗口\n",
    "\n",
    "只要上面的命令行窗口还没有被关掉，你就可以顺着往上找啊找啊，找到那个append GPL的commit id是1094adb...，于是就可以指定回到未来的某个版本`git reset --hard commit_id`：\n",
    "```\n",
    "$ git reset --hard 1094a\n",
    "HEAD is now at 83b0afe append GPL\n",
    "```\n",
    "\n",
    "版本号没必要写全，前几位就可以了，Git会自动去找。当然也不能只写前一两位，因为Git可能会找到多个版本号，就无法确定是哪一个了。\n",
    "\n",
    "* if命令行窗口已经关闭\n",
    "\n",
    "使用`git reflog`找到未来版本的commit id"
   ]
  },
  {
   "cell_type": "markdown",
   "id": "162186fb",
   "metadata": {},
   "source": [
    "回退的本质：\n",
    "\n",
    "每一次commit时候的-m，都是一个可以被指针指向的value\n",
    "\n",
    "HEAD指针指向当前版本\n",
    "\n",
    "当发生回退时，HEAD指针指向回退版本的-m value；然后顺便把工作区的文件更新了。所以你让HEAD指向哪个版本号，你就把当前版本定位在哪"
   ]
  },
  {
   "cell_type": "markdown",
   "id": "6290c87f",
   "metadata": {},
   "source": [
    "**现在总结一下**\n",
    "\n",
    "* HEAD指向的版本就是当前版本，因此，Git允许我们在版本的历史之间穿梭，使用命令`git reset --hard commit_id`。\n",
    "\n",
    "* 穿梭前，用`git log`可以查看提交历史，以便确定要回退到哪个版本。\n",
    "\n",
    "* 要重返未来，用`git reflog`查看命令历史，以便确定要回到未来的哪个版本。"
   ]
  },
  {
   "cell_type": "markdown",
   "id": "14e3e627",
   "metadata": {},
   "source": [
    "## 工作区（working directory）和暂存区（stage）<a id='git_stage'></a>[(back)](#toc)"
   ]
  },
  {
   "cell_type": "markdown",
   "id": "cd08a7ff",
   "metadata": {},
   "source": [
    "#### 工作区\n",
    "\n",
    "就是你在电脑里打开folder能看到的目录"
   ]
  },
  {
   "cell_type": "markdown",
   "id": "220d86c2",
   "metadata": {},
   "source": [
    "#### 暂存区（stage/index）\n",
    "\n",
    "工作区有一个隐藏目录.git，这个不算工作区，而是Git的版本库。\n",
    "\n",
    "Git的版本库里存了很多东西，其中最重要的就是称为stage（或者叫index）的暂存区，还有Git为我们自动创建的第一个分支master，以及指向master的一个指针叫HEAD。\n",
    "\n",
    "`暂存区` + `master` = `git的版本库`\n",
    "\n",
    "* **master**：定数的分支\n",
    "\n",
    "* **暂存区**：待commit的修改版本们"
   ]
  },
  {
   "cell_type": "markdown",
   "id": "c6ce2491",
   "metadata": {},
   "source": [
    "前面讲了我们把文件往Git版本库里添加的时候，是分两步执行的：\n",
    "\n",
    "* 第一步是用`git add`把文件添加进去，实际上就是把文件修改添加到`暂存区`；\n",
    "    \n",
    "   如果在git仓库里新建了一个文件，并且没有git add，`git status`里会显示成**UNTRACTED**\n",
    "   \n",
    "\n",
    "* 第二步是用`git commit`提交更改，实际上就是把`暂存区`的所有内容提交到当前`分支`。"
   ]
  },
  {
   "cell_type": "markdown",
   "id": "863f468f",
   "metadata": {},
   "source": [
    "因此，git commit只会从把**暂存区**里的文件commit到分支\n",
    "\n",
    "* 第一次修改 -> git add -> 第二次修改 -> git commit\n",
    "\n",
    "Git管理的是修改，当你用git add命令后，在工作区的第一次修改被放入暂存区，准备提交，但是，在工作区的第二次修改并没有放入暂存区，所以，git commit只负责把暂存区的修改提交了，也就是第一次的修改被提交了，第二次的修改不会被提交。\n",
    "\n",
    "* 第一次修改 -> git add -> 第二次修改 -> git add -> git commit\n",
    "\n",
    "每次修改后都要git add，最后再git commit"
   ]
  },
  {
   "cell_type": "markdown",
   "id": "580a8811",
   "metadata": {},
   "source": [
    "## 撤销修改 <a id='git_checkout'></a>[(back)](#toc)"
   ]
  },
  {
   "cell_type": "markdown",
   "id": "a65b4e5e",
   "metadata": {},
   "source": [
    "### 撤销工作区的修改\n",
    "\n",
    "`git checkout -- file| git restore file`可以丢弃工作区的修改\n",
    "\n",
    "> git checkout -- file命令中的--很重要，没有--，就变成了“切换到另一个分支”的命令，我们在后面的分支管理中会再次遇到git checkout命令。\n",
    "\n",
    "**工作区**： 就是自己用电脑打开文件做的修改（没有git add也没有git commit）\n",
    "\n",
    "命令`git checkout -- readme.txt`意思就是，把readme.txt文件在工作区的修改全部撤销，这里有两种情况：\n",
    "\n",
    "* 一种是readme.txt自修改后还没有被放到暂存区（没有git add）\n",
    "\n",
    "现在，撤销修改就回到和版本库一模一样的状态；\n",
    "\n",
    "* 一种是readme.txt已经添加到暂存区后（git add后再修改）\n",
    "\n",
    "又作了修改，现在，撤销修改就回到添加到暂存区后的状态\n",
    "\n",
    "**总之，就是让这个文件回到最近一次git commit或git add时的状态。**"
   ]
  },
  {
   "cell_type": "markdown",
   "id": "ccba11f3",
   "metadata": {},
   "source": [
    "### 撤销暂存区的修改\n",
    "\n",
    "`git reset HEAD file|git restore --staged file`可以把暂存区的修改撤销掉（unstage），重新放回工作区\n",
    "\n",
    "**暂存区**：就是git add之后尚未git commit的缓冲区\n",
    "\n",
    "> git reset命令既可以回退版本(HEAD^, HEAD~100)，也可以把暂存区的修改回退到工作区。当我们用HEAD时，表示最新的版本，仅仅表示重新指向上一次commit过的版本，也即，回退暂存区新加的内容。\n",
    "\n",
    "先看一下git status：\n",
    "```\n",
    "$ git status\n",
    "On branch master\n",
    "Changes to be committed:\n",
    "  (use \"git reset HEAD <file>...\" to unstage)\n",
    "\n",
    "\tmodified:   readme.txt\n",
    "```\n",
    "\n",
    "已被修改的readme.txt正在暂存区等待commit，用git reset HEAD回退\n",
    "\n",
    "```\n",
    "$ git reset HEAD readme.txt\n",
    "Unstaged changes after reset:\n",
    "M\treadme.txt\n",
    "```\n",
    "现在teadme.txt的修改变成了unstaged，已从暂存区回退到了工作区\n",
    "\n",
    "查看一下git status：\n",
    "\n",
    "```\n",
    "$ git status\n",
    "On branch master\n",
    "Changes not staged for commit:\n",
    "  (use \"git add <file>...\" to update what will be committed)\n",
    "  (use \"git checkout -- <file>...\" to discard changes in working directory)\n",
    "\n",
    "\tmodified:   readme.txt\n",
    "```\n",
    "现在暂存区是干净的，工作区有修改\n",
    "\n",
    "再用git checkout -- readme.txt回退工作区\n",
    "\n",
    "```\n",
    "$ git checkout -- readme.txt\n",
    "\n",
    "$ git status\n",
    "On branch master\n",
    "nothing to commit, working tree clean\n",
    "```"
   ]
  },
  {
   "cell_type": "markdown",
   "id": "117bf819",
   "metadata": {},
   "source": [
    "假设你不但改错了东西，还从暂存区提交到了**版本库**，怎么办呢？还记得版本回退一节吗？可以回退到上一个版本。不过，这是有条件的，就是你还没有把自己的本地版本库推送到远程。还记得Git是分布式版本控制系统吗？我们后面会讲到远程版本库，一旦你把stupid boss提交推送到**远程版本库**，你就真的惨了"
   ]
  },
  {
   "cell_type": "markdown",
   "id": "824dc7ff",
   "metadata": {},
   "source": [
    "## 删除文件<a id='git_rm'></a> [(back)](#toc)"
   ]
  },
  {
   "cell_type": "markdown",
   "id": "0627b7d8",
   "metadata": {},
   "source": [
    "删除文件：`git rm file`\n",
    "\n",
    "删除文件夹: `git rm -r folder`"
   ]
  },
  {
   "cell_type": "markdown",
   "id": "89f050bb",
   "metadata": {},
   "source": [
    "**删除untracked文件**：(use \"git rm --cached <file>...\" to unstage)"
   ]
  },
  {
   "cell_type": "markdown",
   "id": "312c4233",
   "metadata": {},
   "source": [
    "手动从文件夹删除/`rm test.txt`删除文件后\n",
    "\n",
    "git status看一下\n",
    "\n",
    "```\n",
    "$ git status\n",
    "On branch master\n",
    "Changes not staged for commit:\n",
    "  (use \"git add/rm <file>...\" to update what will be committed)\n",
    "  (use \"git checkout -- <file>...\" to discard changes in working directory)\n",
    "\n",
    "\tdeleted:    test.txt\n",
    "\n",
    "no changes added to commit (use \"git add\" and/or \"git commit -a\")\n",
    "```\n",
    "这个时候，Git知道你删除了文件，因此，工作区和版本库就不一致了\n",
    "\n",
    "现在你有两个选择\n",
    "\n",
    "* 一是确实要从版本库中删除该文件\n",
    "\n",
    "那就用命令`git rm`删掉，并且`git commit`\n",
    "\n",
    "> `git rm`是将暂存区和工作区的file一并删除(注意，此刻只是删除了暂存区，但还没有commit); 想让分区的也删除，需要commit一下。要恢复，可以用git reset --hard HEAD\n",
    "\n",
    "```\n",
    "$ git rm test.txt\n",
    "rm 'test.txt'\n",
    "\n",
    "$ git commit -m \"remove test.txt\"\n",
    "[master d46f35e] remove test.txt\n",
    " 1 file changed, 1 deletion(-)\n",
    " delete mode 100644 test.txt\n",
    "\n",
    "```\n",
    "\n",
    "* 另一种情况是删错了，因为版本库里还有呢，所以可以很轻松地把误删的文件恢复到最新版本\n",
    "\n",
    "误删：发生在工作区的操作\n",
    "\n",
    "使用`git checkout -- file`回退\n",
    "\n",
    "```\n",
    "$ git checkout -- test.txt\n",
    "```"
   ]
  },
  {
   "cell_type": "markdown",
   "id": "f6868b1a",
   "metadata": {},
   "source": [
    "## 远程仓库 <a id='ssh'></a> [(back)](#toc)"
   ]
  },
  {
   "cell_type": "markdown",
   "id": "161c1206",
   "metadata": {},
   "source": [
    "Git是分布式版本控制系统，同一个Git仓库，可以分布到不同的机器上\n",
    "\n",
    "实际情况往往是这样，找一台电脑充当服务器的角色，每天24小时开机，其他每个人都从这个“服务器”仓库克隆一份到自己的电脑上，并且各自把各自的提交推送到服务器仓库里，也从服务器仓库中拉取别人的提交。\n",
    "\n",
    "GitHub就是提供Git仓库托管服务的，所以，只要注册一个GitHub账号，就可以免费获得Git远程仓库。"
   ]
  },
  {
   "cell_type": "markdown",
   "id": "267dac96",
   "metadata": {},
   "source": [
    "### 本地git连接github\n",
    "由于你的本地Git仓库和GitHub仓库之间的传输是通过**SSH加密**的，所以，需要一点设置：\n",
    "\n",
    "* 第1步：创建SSH Key\n",
    "\n",
    "在用户主目录下，看看有没有.ssh目录，如果有，再看看这个目录下有没有id_rsa和id_rsa.pub这两个文件，如果已经有了，可直接跳到下一步。如果没有，打开Shell（Windows下打开Git Bash），创建SSH Key：\n",
    "\n",
    "```\n",
    "$ ssh-keygen -t rsa -C \"youremail@example.com\"\n",
    "```\n",
    "\n",
    "你需要把邮件地址换成你自己的邮件地址，然后一路回车，使用默认值即可，由于这个Key也不是用于军事目的，所以也无需设置密码。\n",
    "\n",
    "如果一切顺利的话，可以在用户主目录里找到`.ssh`目录，里面有`id_rsa`和`id_rsa.pub`两个文件，这两个就是SSH Key的**秘钥对**\n",
    "\n",
    "* `id_rsa`是*私钥*，不能泄露出去\n",
    "* `id_rsa.pub`是*公钥*，可以放心地告诉任何人。\n",
    "\n",
    "* 第2步：登陆GitHub，打开“Account settings”，“SSH Keys”页面\n",
    "\n",
    "点“Add SSH Key”，填上任意Title，在Key文本框里粘贴id_rsa.pub文件的内容"
   ]
  },
  {
   "cell_type": "markdown",
   "id": "1234db10",
   "metadata": {},
   "source": [
    "### 为什么GitHub需要SSH Key呢？\n",
    "\n",
    "因为GitHub需要识别出你推送的提交确实是你推送的，而不是别人冒充的，而Git支持SSH协议，所以，GitHub只要知道了你的**公钥**，就可以确认只有你自己才能推送。\n",
    "\n",
    "当然，GitHub允许你添加**多个Key**。假定你有若干电脑，你一会儿在公司提交，一会儿在家里提交，只要把每台电脑的Key都添加到GitHub，就可以在每台电脑上往GitHub推送了。\n",
    "\n",
    "最后友情提示，在GitHub上免费托管的Git仓库，任何人都可以看到喔（但只有你自己才能改）。所以，不要把敏感信息放进去。\n",
    "\n",
    "如果你不想让别人看到Git库，有两个办法\n",
    "* 一个是交点保护费，让GitHub把公开的仓库变成私有的，这样别人就看不见了（不可读更不可写）\n",
    "\n",
    "* 另一个办法是自己动手，**搭一个Git服务器**，因为是你自己的Git服务器，所以别人也是看不见的。这个方法我们后面会讲到的，相当简单，公司内部开发必备。"
   ]
  },
  {
   "cell_type": "markdown",
   "id": "275f60f0",
   "metadata": {},
   "source": [
    "## 把本地添加到远程库 <a id='git_origin'></a>[(back)](#toc)"
   ]
  },
  {
   "cell_type": "markdown",
   "id": "0fc62d27",
   "metadata": {},
   "source": [
    "现在的情景是，你已经在本地创建了一个Git仓库后，又想在GitHub创建一个Git仓库，并且让这两个仓库进行远程同步，这样，GitHub上的仓库既可以作为备份，又可以让其他人通过该仓库来协作\n",
    "\n",
    "* 先在github上建立一个新的空库\n",
    "\n",
    "目前，在GitHub上的这个learngit仓库还是空的\n",
    "\n",
    "* 把一个已有的本地仓库与之关联\n",
    "\n",
    "`$ git remote add origin git@github.com:blablabla/learngit.git`\n",
    "\n",
    "*注意*： 此处的blabla要填自己的github账户名，当然，你也可以关联他人的github库，但是你以后推送是推不上去的，因为你的SSH Key公钥不在他人设置的账户列表中\n",
    "\n",
    "添加后，远程库的名字就是`origin`，这是Git默认的叫法\n",
    "\n",
    "* 把本地库的所有内容推送到远程库上\n",
    "\n",
    "**第一次**推送：（要加`-u`）\n",
    "\n",
    "`git push -u origin master`\n",
    "\n",
    "把本地库的内容推送到远程，用git push命令，实际上是把当前分支master推送到远程\n",
    "\n",
    "由于远程库是空的，我们第一次推送master分支时，加上了-u参数，Git不但会把本地的master分支内容推送的远程新的master分支，还会把本地的master分支和远程的master分支关联起来，在以后的推送或者拉取时就可以简化命令"
   ]
  },
  {
   "cell_type": "markdown",
   "id": "59b08a72",
   "metadata": {},
   "source": [
    "推送成功后，可以立刻在GitHub页面中看到远程库的内容已经和本地一模一样\n",
    "\n",
    "从现在起，本地做了任何改变，都可以及时上传：\n",
    "\n",
    "**非第一次**推送：\n",
    "\n",
    "`$ git push origin master` \n",
    "\n",
    "把本地master分支的最新修改推送至GitHub"
   ]
  },
  {
   "cell_type": "markdown",
   "id": "24b1884e",
   "metadata": {},
   "source": [
    "### 删除远程库 <a id='git_remote_rm'></a> [(back)](#toc)"
   ]
  },
  {
   "cell_type": "markdown",
   "id": "6111fd4c",
   "metadata": {},
   "source": [
    "如果添加的时候地址写错了，或者就是想删除远程库\n",
    "\n",
    "`git remote rm <name>`\n",
    "\n",
    "使用前，建议先用`git remote -v`查看远程库信息\n",
    "\n",
    "```\n",
    "$ git remote -v\n",
    "origin  git@github.com:michaelliao/learn-git.git (fetch)\n",
    "origin  git@github.com:michaelliao/learn-git.git (push)\n",
    "\n",
    "```\n",
    "\n",
    "然后，根据名字删除，比如删除origin：\n",
    "\n",
    "```\n",
    "git remote rm origin\n",
    "```\n",
    "\n",
    "此处的“删除”其实是**解除了本地和远程的绑定关系**，并不是物理上删除了远程库。也就是说，之前上传的东西还在github上.....\n",
    "\n",
    "远程库本身并没有任何改动。要真正删除远程库，需要**登录到GitHub**，在后台页面找到删除按钮再删除。"
   ]
  },
  {
   "cell_type": "markdown",
   "id": "4a68a417",
   "metadata": {},
   "source": [
    "## 从远程库克隆到本地 <a id='git_clone'></a> [(back)](#toc)"
   ]
  },
  {
   "cell_type": "markdown",
   "id": "1b407d97",
   "metadata": {},
   "source": [
    "先有远程库，再有本地库：\n",
    "\n",
    "github上新建一个gitskills库\n",
    "\n",
    "用命令`git clone`/`git pull origin master`克隆一个本地库\n",
    "\n",
    "```\n",
    "$ git clone git@github.com:blablabla/learngit.git\n",
    "```\n",
    "\n",
    "注意把Git库的地址换成你自己的，然后进入learngit目录看看`dir` `cd newrepository` `ls`，已经有README.md文件了\n",
    "\n",
    "```\n",
    "$ dir\n",
    "$ cd gitskills\n",
    "$ ls\n",
    "README.md\n",
    "```"
   ]
  },
  {
   "cell_type": "markdown",
   "id": "81941105",
   "metadata": {},
   "source": [
    "> git --help #帮助命令\n",
    "\n",
    "> git pull origin master #把远程库里的东西拉下来\n",
    "\n",
    "> dir #查看有哪些文件夹\n",
    "\n",
    "> git rm -r --cached target #删除target文件夹\n",
    "\n",
    "> git commit -m 'deleted a folder' #提交\n",
    "\n",
    "> git push -u origin master #将本次修改上传到github上去\n",
    "\n",
    "**注意**：本地的target folder不受影响，删除的只是远程仓库里的target\n",
    "\n"
   ]
  },
  {
   "cell_type": "markdown",
   "id": "70f306c9",
   "metadata": {},
   "source": [
    "你也许还注意到，GitHub给出的地址不止一个:\n",
    "* git@github.com:michaelliao/gitskills.git \n",
    "* https://github.com/michaelliao/gitskills.git\n",
    "\n",
    "实际上，Git支持多种协议，默认的`git://`使用**ssh**，但也可以使用**https**等其他协议。\n",
    "\n",
    "使用https除了**速度慢**以外，还有个最大的麻烦是每次推送都必须输入**口令**，但是在某些只开放http端口的公司内部就无法使用ssh协议而只能用https。"
   ]
  },
  {
   "cell_type": "markdown",
   "id": "885e90f1",
   "metadata": {},
   "source": [
    "## 分支管理 <a id='branch'></a>[(back)](#toc)"
   ]
  },
  {
   "cell_type": "markdown",
   "id": "6bcab6d6",
   "metadata": {},
   "source": [
    "每次提交，Git都把它们串成一条时间线，这条时间线就是一个分支。截止到目前，只有一条时间线，在Git里，这个分支叫主分支，即master分支。\n",
    "\n",
    "* `HEAD`严格来说不是指向提交，而是指向`master`\n",
    "\n",
    "* `master`才是指向`提交`的\n",
    "\n",
    "所以，HEAD指向的就是当前分支。\n",
    "\n",
    "一开始的时候，master分支是一条线，Git用master指向最新的提交，再用HEAD指向master，就能确定当前分支，以及当前分支的提交点\n",
    "\n",
    "每次提交，master分支都会向前移动一步，这样，随着你不断提交，master分支的线也越来越长。\n",
    "\n",
    "当我们创建**新的分支**，例如dev时，Git**新建了一个指针叫dev**，指向master相同的提交，**再把HEAD指向dev**，就表示当前分支在dev上\n",
    "\n",
    "你看，Git创建一个分支很快，因为除了**增加一个dev指针，改改HEAD的指向，工作区的文件都没有任何变化！**\n",
    "\n",
    "不过，从现在开始，对工作区的修改和提交就是针对dev分支了，比如新提交一次后，dev指针往前移动一步，而master指针不变\n",
    "\n",
    "假如我们在dev上的工作完成了，就可以把dev合并到master上。Git怎么合并呢？最简单的方法，就是直接把master指向dev的当前提交，就完成了合并。所以Git合并分支也很快！就**改改指针，工作区内容也不变！**\n",
    "\n",
    "合并完分支后，甚至可以删除dev分支。删除dev分支就是把dev指针给删掉，删掉后，我们就剩下了一条master分支"
   ]
  },
  {
   "cell_type": "markdown",
   "id": "35fbc7b3",
   "metadata": {},
   "source": [
    "### 创建分支\n",
    "\n",
    "`git checkout -b branchname`\n",
    "\n",
    "git checkout命令加上-b参数表示创建并切换，相当于以下两条命令：\n",
    "\n",
    "```\n",
    "$ git branch dev\n",
    "$ git checkout dev\n",
    "Switched to branch 'dev'\n",
    "\n",
    "```\n",
    "然后，用`git branch`命令查看当前分支\n",
    "\n",
    "```\n",
    "$ git branch\n",
    "* dev\n",
    "  master\n",
    "```\n",
    "git branch命令会列出所有分支，当前分支前面会标一个*号\n",
    "\n",
    "然后，我们就可以在dev分支上正常提交，比如对readme.txt做个修改, 再git add\n",
    "\n",
    "```\n",
    "$ git add readme.txt \n",
    "$ git commit -m \"branch test\"\n",
    "[dev b17d20e] branch test\n",
    " 1 file changed, 1 insertion(+)\n",
    "```\n",
    "\n",
    "现在，dev分支的工作完成，我们就可以切换回master分支：\n",
    "\n",
    "**注意！！1. 各分支共用工作区和暂存区；也就是说，本地修改了文件不管你git切到哪个分支都能通过打开文件看到修改内容。。。因为你看到的是工作区的修改；2. 要先提交（commit）了再切分支！**\n",
    "\n",
    "```\n",
    "$ git checkout master\n",
    "Switched to branch 'master'\n",
    "```\n",
    "切换回master分支后，再查看一个readme.txt文件，刚才添加的内容不见了！因为那个提交是在dev分支上，而master分支此刻的提交点并没有变\n",
    "\n",
    "现在，我们把dev分支的工作成果合并到master分支上\n",
    "\n",
    "```\n",
    "$ git merge dev\n",
    "Updating d46f35e..b17d20e\n",
    "Fast-forward\n",
    " readme.txt | 1 +\n",
    " 1 file changed, 1 insertion(+)\n",
    "```\n",
    "\n",
    "`git merge`命令用于合并指定分支到当前分支\n",
    " \n",
    "注意到上面的Fast-forward信息，Git告诉我们，这次合并是“快进模式”，也就是直接把master指向dev的当前提交，所以合并速度非常快。\n",
    " \n",
    "合并完成后，就可以放心地删除dev分支了\n",
    "\n",
    "```\n",
    "$ git branch -d dev\n",
    "Deleted branch dev (was b17d20e).\n",
    "```\n",
    "\n",
    "删除后，查看branch，就只剩下master分支了\n",
    "\n",
    "```\n",
    "$ git branch\n",
    "* master\n",
    "```\n"
   ]
  },
  {
   "cell_type": "markdown",
   "id": "941c8309",
   "metadata": {},
   "source": [
    "switch\n",
    "我们注意到切换分支使用git checkout <branch>，而前面讲过的撤销修改则是git checkout -- <file>，同一个命令，有两种作用，确实有点令人迷惑。\n",
    "\n",
    "实际上，切换分支这个动作，用switch更科学。因此，最新版本的Git提供了新的git switch命令来切换分支：\n",
    "\n",
    "创建并切换到新的dev分支，可以使用：\n",
    "\n",
    "$ git switch -c dev\n",
    "直接切换到已有的master分支，可以使用：\n",
    "\n",
    "$ git switch master\n",
    "使用新的git switch命令，比git checkout要更容易理解。\n",
    "\n",
    "小结\n",
    "Git鼓励大量使用分支：\n",
    "\n",
    "查看分支：git branch\n",
    "\n",
    "创建分支：git branch <name>\n",
    "\n",
    "切换分支：git checkout <name>或者git switch <name>\n",
    "\n",
    "创建+切换分支：git checkout -b <name>或者git switch -c <name>\n",
    "\n",
    "合并某分支到当前分支：git merge <name>\n",
    "\n",
    "删除分支：git branch -d <name>"
   ]
  }
 ],
 "metadata": {
  "kernelspec": {
   "display_name": "Python 3 (ipykernel)",
   "language": "python",
   "name": "python3"
  },
  "language_info": {
   "codemirror_mode": {
    "name": "ipython",
    "version": 3
   },
   "file_extension": ".py",
   "mimetype": "text/x-python",
   "name": "python",
   "nbconvert_exporter": "python",
   "pygments_lexer": "ipython3",
   "version": "3.9.7"
  }
 },
 "nbformat": 4,
 "nbformat_minor": 5
}
